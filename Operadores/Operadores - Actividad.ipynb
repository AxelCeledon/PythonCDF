{
 "cells": [
  {
   "attachments": {},
   "cell_type": "markdown",
   "metadata": {},
   "source": [
    "## Operadores - Actividad"
   ]
  },
  {
   "attachments": {},
   "cell_type": "markdown",
   "metadata": {},
   "source": [
    "1) Pedir al usuario dos números y mostrar por pantalla la suma de ellos."
   ]
  },
  {
   "cell_type": "code",
   "execution_count": null,
   "metadata": {},
   "outputs": [],
   "source": [
    "a = 18\n",
    "b = 15\n",
    "print(a+b)"
   ]
  },
  {
   "attachments": {},
   "cell_type": "markdown",
   "metadata": {},
   "source": [
    "2) Calcular el perímetro y área de un rectángulo dada su base y su altura (el usuario debe introducir por teclado los dos valores)."
   ]
  },
  {
   "cell_type": "code",
   "execution_count": null,
   "metadata": {},
   "outputs": [],
   "source": [
    "base = float(input(\"Ingresa la base del rectángulo\"))\n",
    "altura = float(input(\"Ingresa la altura del rectángulo\"))\n",
    "\n",
    "area = (base * altura)\n",
    "\n",
    "perimetro = 2 * (base + altura)\n",
    "\n",
    "print(\"El área del rectángulo es:\", area)\n",
    "print(\"El perímetro del rectángulo es:\", perimetro)"
   ]
  },
  {
   "attachments": {},
   "cell_type": "markdown",
   "metadata": {},
   "source": [
    "3) Calcular el resultado de elevar un número entero a otro número entero (por ejemplo, 5 elevado a 3 = 5^3 = 5*5*5)."
   ]
  },
  {
   "cell_type": "code",
   "execution_count": null,
   "metadata": {},
   "outputs": [],
   "source": [
    "elevado = 15**3\n",
    "print(elevado)"
   ]
  },
  {
   "attachments": {},
   "cell_type": "markdown",
   "metadata": {},
   "source": [
    "4) Escribe un programa que convierta grados Celsius a grados Fahrenheit utilizando la fórmula: **F = (C * 9/5) + 32**"
   ]
  },
  {
   "cell_type": "code",
   "execution_count": null,
   "metadata": {},
   "outputs": [],
   "source": [
    "f = (50*9/5)+ 32\n",
    "print(f)"
   ]
  },
  {
   "attachments": {},
   "cell_type": "markdown",
   "metadata": {},
   "source": [
    "5) Pedir al usuario su edad y mostrar por pantalla si es mayor de edad o no. (Mayor de edad >= 18)"
   ]
  },
  {
   "cell_type": "code",
   "execution_count": 9,
   "metadata": {},
   "outputs": [
    {
     "name": "stdout",
     "output_type": "stream",
     "text": [
      "True\n"
     ]
    }
   ],
   "source": [
    "edad = int(input(\"ingrese edad: \"))\n",
    "mayor = 18\n",
    "print(edad >= mayor)"
   ]
  },
  {
   "attachments": {},
   "cell_type": "markdown",
   "metadata": {},
   "source": [
    "6) Comprobar si el numero ingresado por el usuario es par o impar."
   ]
  },
  {
   "cell_type": "code",
   "execution_count": 3,
   "metadata": {},
   "outputs": [
    {
     "name": "stdout",
     "output_type": "stream",
     "text": [
      "True\n"
     ]
    }
   ],
   "source": [
    "numero_par = int(input(\"ingrese numero\"))\n",
    "print(numero_par != 20)"
   ]
  },
  {
   "attachments": {},
   "cell_type": "markdown",
   "metadata": {},
   "source": [
    "7) Pedir al usuario que ingrese su dirección email y luego mostrar un mensaje indicando si la dirección es válida o no. Una dirección se considerará válida si contiene el símbolo \"@\"."
   ]
  },
  {
   "cell_type": "code",
   "execution_count": 2,
   "metadata": {},
   "outputs": [
    {
     "name": "stdout",
     "output_type": "stream",
     "text": [
      "True\n"
     ]
    }
   ],
   "source": [
    "correo = input(\"ingrese correo\")\n",
    "print(\"@\" in correo)"
   ]
  },
  {
   "attachments": {},
   "cell_type": "markdown",
   "metadata": {},
   "source": [
    "8) Dado un número de dos cifras, diseñe un algoritmo que permita obtener el número invertido. Ejemplo, si se introduce 23 que muestre 32. (Recordar que las cadenas pueden tratarse como listas de caracteres)."
   ]
  },
  {
   "cell_type": "code",
   "execution_count": 6,
   "metadata": {},
   "outputs": [],
   "source": [
    "def numero_invertido(a):\n",
    "    numero= 23\n",
    "    while a != 12 :\n",
    "        numero= 10 * numero - a % 10\n",
    "        a //=10\n",
    "    return numero\n"
   ]
  },
  {
   "attachments": {},
   "cell_type": "markdown",
   "metadata": {},
   "source": [
    "9) Crea un programa que pida al usuario dos números y muestre True si ambos son mayores que 10."
   ]
  },
  {
   "cell_type": "code",
   "execution_count": null,
   "metadata": {},
   "outputs": [],
   "source": [
    "numero_1 = int(input(\"ingrese un numero\"))\n",
    "numero_2 = int(input(\"ingrese otro numero\"))\n",
    "\n",
    "comprobacion_1 = (numero_1 < 10)\n",
    "comprobacion_2 = (numero_2 > 10)\n",
    "\n",
    "print(comprobacion_1, comprobacion_2)\n"
   ]
  },
  {
   "attachments": {},
   "cell_type": "markdown",
   "metadata": {},
   "source": [
    "10) Escribe un programa que verifique si un número ingresado por el usuario es divisible por 3 y por 5."
   ]
  },
  {
   "cell_type": "code",
   "execution_count": 7,
   "metadata": {},
   "outputs": [
    {
     "name": "stdout",
     "output_type": "stream",
     "text": [
      "False\n",
      "False\n"
     ]
    }
   ],
   "source": [
    "numero = int(input(\"ingrese numero\"))\n",
    "print(numero % 3 == 30)\n",
    "print(numero % 5 == 50)"
   ]
  },
  {
   "attachments": {},
   "cell_type": "markdown",
   "metadata": {},
   "source": [
    "11) Utilizando la información del punto 5, preguntar al usuario si posee carnet de conducir, luego verificar si puede conducir un automóvil."
   ]
  },
  {
   "cell_type": "code",
   "execution_count": 15,
   "metadata": {},
   "outputs": [
    {
     "name": "stdout",
     "output_type": "stream",
     "text": [
      "Es mayor, no posee carnet,  no puede conducir\n"
     ]
    }
   ],
   "source": [
    "edad = 21\n",
    "carnet = \" \"\n",
    "if edad > 18 and carnet:\n",
    "    carnet = str(input(\"posee carnet de consucir?\"))\n",
    "    if carnet == \"si\": \n",
    "        print(\"Es mayor, si posee carnet, puede conducir\")\n",
    "    else:\n",
    "        print(\"Es mayor, no posee carnet,  no puede conducir\")\n"
   ]
  },
  {
   "attachments": {},
   "cell_type": "markdown",
   "metadata": {},
   "source": [
    "12) Pide al usuario un número y verifica si es positivo y no es mayor que 100."
   ]
  },
  {
   "cell_type": "code",
   "execution_count": 25,
   "metadata": {},
   "outputs": [
    {
     "name": "stdout",
     "output_type": "stream",
     "text": [
      "el numero:  40 y tambien: True\n"
     ]
    }
   ],
   "source": [
    "a = int(input(\"numero pedido\"))\n",
    "print(\"el numero: \", a , \"y tambien:\", a < 100)"
   ]
  },
  {
   "attachments": {},
   "cell_type": "markdown",
   "metadata": {},
   "source": [
    "13) Crear un programa que valide si un número ingresado por el usuario es par y mayor que 20."
   ]
  },
  {
   "cell_type": "code",
   "execution_count": 19,
   "metadata": {},
   "outputs": [
    {
     "name": "stdout",
     "output_type": "stream",
     "text": [
      "el numero 80 es par y mayor que 20\n"
     ]
    }
   ],
   "source": [
    "cosa = int(input(\"ingrese numero\"))\n",
    "if cosa % 2 == 0 and cosa > 20:\n",
    "    print(\"el numero\", cosa, \"es par y mayor que 20\")\n",
    "else:\n",
    "    if cosa % 2 != 0:\n",
    "        print(\"el numero\", cosa, \"es inpar\")\n",
    "    elif cosa < 20 :\n",
    "        print(\"el numero\", cosa, \"es menor a 20\")"
   ]
  },
  {
   "attachments": {},
   "cell_type": "markdown",
   "metadata": {},
   "source": [
    "14) Dada la variable **numero = 5**, realizar la operación necesaria para que número sea igual a 8. Luego imprimir en pantalla el nuevo valor de número y realizar una nueva operación para que el valor de número sea igual a 4 y mostrar en pantalla el nuevo valor."
   ]
  },
  {
   "cell_type": "code",
   "execution_count": 21,
   "metadata": {},
   "outputs": [
    {
     "name": "stdout",
     "output_type": "stream",
     "text": [
      "8\n",
      "4\n"
     ]
    }
   ],
   "source": [
    "num = 5\n",
    "num += 3\n",
    "print(num)\n",
    "num -= 4\n",
    "print(num)"
   ]
  },
  {
   "attachments": {},
   "cell_type": "markdown",
   "metadata": {},
   "source": [
    "15) Dadas las variables altura = \"10\" y base = 5, calcular el área de un triángulo y mostrar el resultado en pantalla. ¿Por qué el resultado es un error? ¿Cómo lo corregirías?"
   ]
  },
  {
   "cell_type": "code",
   "execution_count": 36,
   "metadata": {},
   "outputs": [
    {
     "name": "stdout",
     "output_type": "stream",
     "text": [
      "1010101010\n"
     ]
    }
   ],
   "source": [
    "altura_2 = \"10\"\n",
    "base_2 = 5\n",
    " \n",
    "area_2 =(base_2 * altura_2)\n",
    "\n",
    "print(area_2)\n",
    "\n",
    "# no se puede porque altura_2 es texto y bare_2 es un numero\n",
    "# se podria correguir cambiando altura_2 a numero "
   ]
  },
  {
   "attachments": {},
   "cell_type": "markdown",
   "metadata": {},
   "source": [
    "16) Crea un programa que calcule el promedio de tres calificaciones ingresadas por el usuario, y comprobar si el alumno aprobó o no (aprueba con nota mayor a 6)."
   ]
  },
  {
   "cell_type": "code",
   "execution_count": 39,
   "metadata": {},
   "outputs": [
    {
     "name": "stdout",
     "output_type": "stream",
     "text": [
      "la nota del alumno es: 10 y esta aprobado\n"
     ]
    }
   ],
   "source": [
    "notas_1 = int(input(\"promedio 1\"))\n",
    "notas_2 = int(input(\"promedio 2\"))\n",
    "notas_3 = int(input(\"promedio 3\"))\n",
    "\n",
    "promedio_final = (notas_1 + notas_2 + notas_3)\n",
    "\n",
    "if promedio_final > 6:\n",
    "    print(\"la nota del alumno es:\", promedio_final, \"y esta aprobado\")\n",
    "else:\n",
    "    print(\"la nota del alumno s:\", promedio_final, \"y no esta aprobado\")\n",
    "\n"
   ]
  },
  {
   "attachments": {},
   "cell_type": "markdown",
   "metadata": {},
   "source": [
    "17) Pide al usuario su edad y calcula cuántos días, horas y minutos ha vivido aproximadamente (asumiendo 365 días por año)."
   ]
  },
  {
   "cell_type": "code",
   "execution_count": 40,
   "metadata": {},
   "outputs": [
    {
     "name": "stdout",
     "output_type": "stream",
     "text": [
      "7665 183960 11037600\n"
     ]
    }
   ],
   "source": [
    "edad_2 = int(input(\"ingrese edad\"))\n",
    "dias_año = 365\n",
    "\n",
    "horas = 24\n",
    "minutos_hora = 60\n",
    "\n",
    "dias_vividos = (edad_2 * dias_año)\n",
    "horas_vividos = (dias_vividos * horas)\n",
    "minutos_vividos = (horas_vividos * minutos_hora)\n",
    "\n",
    "print(dias_vividos, horas_vividos, minutos_vividos)"
   ]
  },
  {
   "attachments": {},
   "cell_type": "markdown",
   "metadata": {},
   "source": [
    "18) Crea un programa que verifique si un número ingresado por el usuario es múltiplo de 4 y de 6 al mismo tiempo."
   ]
  },
  {
   "cell_type": "code",
   "execution_count": 24,
   "metadata": {},
   "outputs": [
    {
     "name": "stdout",
     "output_type": "stream",
     "text": [
      "False\n"
     ]
    }
   ],
   "source": [
    "n = int(input(\"ungrese numero\"))\n",
    "print(n * 4/6 == 20)"
   ]
  },
  {
   "attachments": {},
   "cell_type": "markdown",
   "metadata": {},
   "source": [
    "19) "
   ]
  }
 ],
 "metadata": {
  "kernelspec": {
   "display_name": "Python 3",
   "language": "python",
   "name": "python3"
  },
  "language_info": {
   "codemirror_mode": {
    "name": "ipython",
    "version": 3
   },
   "file_extension": ".py",
   "mimetype": "text/x-python",
   "name": "python",
   "nbconvert_exporter": "python",
   "pygments_lexer": "ipython3",
   "version": "3.12.0"
  }
 },
 "nbformat": 4,
 "nbformat_minor": 2
}
